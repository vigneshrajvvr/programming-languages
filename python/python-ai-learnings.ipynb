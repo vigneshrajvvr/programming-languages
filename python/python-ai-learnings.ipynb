{
 "cells": [
  {
   "cell_type": "markdown",
   "id": "f26d9f30-4809-4003-a961-3b4a0c7d154d",
   "metadata": {},
   "source": [
    "Python for AI"
   ]
  },
  {
   "cell_type": "code",
   "execution_count": 8,
   "id": "67424e39-9c32-4168-883d-fbf8fb78f079",
   "metadata": {},
   "outputs": [
    {
     "name": "stdout",
     "output_type": "stream",
     "text": [
      "Hello, World!\n"
     ]
    }
   ],
   "source": [
    "print(\"Hello, World!\")"
   ]
  },
  {
   "cell_type": "code",
   "execution_count": 4,
   "id": "e45e9de2-350f-4c8a-b528-d12a26d26006",
   "metadata": {},
   "outputs": [],
   "source": [
    "# COMMENT"
   ]
  },
  {
   "cell_type": "markdown",
   "id": "ee9c5be0-07ef-42fa-a45c-90abbe2e76d5",
   "metadata": {},
   "source": [
    "Strings:"
   ]
  },
  {
   "cell_type": "code",
   "execution_count": 10,
   "id": "b9a99a3c-2f31-40bd-a0ea-8a8c6ec04f8d",
   "metadata": {},
   "outputs": [
    {
     "name": "stdout",
     "output_type": "stream",
     "text": [
      "Hello World!\n",
      "Hello World!\n",
      "    Multiline String\n"
     ]
    }
   ],
   "source": [
    "# Singleline String\n",
    "print(\"Hello World!\")\n",
    "\n",
    "#Multiline String\n",
    "print(\"\"\"Hello World!\n",
    "    Multiline String\"\"\")"
   ]
  },
  {
   "cell_type": "markdown",
   "id": "8d32874f-9387-4d51-9a02-96c054c1cd38",
   "metadata": {},
   "source": [
    "Type:"
   ]
  },
  {
   "cell_type": "code",
   "execution_count": 15,
   "id": "77ef1a1a-dd92-4515-973e-92432e8c50ec",
   "metadata": {},
   "outputs": [
    {
     "data": {
      "text/plain": [
       "str"
      ]
     },
     "execution_count": 15,
     "metadata": {},
     "output_type": "execute_result"
    }
   ],
   "source": [
    "type(\"Hello World!\")"
   ]
  },
  {
   "cell_type": "code",
   "execution_count": 16,
   "id": "11d8fa73-de99-4a5e-a745-acb6f4f69d14",
   "metadata": {},
   "outputs": [
    {
     "data": {
      "text/plain": [
       "int"
      ]
     },
     "execution_count": 16,
     "metadata": {},
     "output_type": "execute_result"
    }
   ],
   "source": [
    "type(100) # Integer"
   ]
  },
  {
   "cell_type": "code",
   "execution_count": 17,
   "id": "540385a1-06f3-4fea-9585-a4b25d269831",
   "metadata": {},
   "outputs": [
    {
     "data": {
      "text/plain": [
       "float"
      ]
     },
     "execution_count": 17,
     "metadata": {},
     "output_type": "execute_result"
    }
   ],
   "source": [
    "type(10.5) # Float"
   ]
  },
  {
   "cell_type": "markdown",
   "id": "4c53be2d-682d-424e-985e-c8f2cc1f828e",
   "metadata": {},
   "source": [
    "Power"
   ]
  },
  {
   "cell_type": "code",
   "execution_count": 18,
   "id": "b494e00f-fc16-4acf-9ca8-0036500c255b",
   "metadata": {},
   "outputs": [
    {
     "name": "stdout",
     "output_type": "stream",
     "text": [
      "57.6650390625\n"
     ]
    }
   ],
   "source": [
    "print(1.5 ** 10)"
   ]
  },
  {
   "cell_type": "code",
   "execution_count": 21,
   "id": "61bbfec9-5074-45a8-ad52-18d33aefcf97",
   "metadata": {},
   "outputs": [
    {
     "name": "stdout",
     "output_type": "stream",
     "text": [
      "Convert 6 feet to meters 1.8288000000000002\n"
     ]
    }
   ],
   "source": [
    "# String contatenation\n",
    "print(\"Convert 6 feet to meters\",6 * 0.3048)"
   ]
  },
  {
   "cell_type": "markdown",
   "id": "b530f9d7-fcde-4e28-8bbe-252dd424ebbe",
   "metadata": {},
   "source": [
    "Formatted Strings"
   ]
  },
  {
   "cell_type": "code",
   "execution_count": 24,
   "id": "9811b265-77a6-4d7c-b2ee-1b0cacf97091",
   "metadata": {},
   "outputs": [
    {
     "name": "stdout",
     "output_type": "stream",
     "text": [
      "The temperature 75F in degrees celsius is 23.89C\n"
     ]
    }
   ],
   "source": [
    "print(f\"The temperature 75F in degrees celsius is {(75 - 32) * 5 / 9:.2f}C\")"
   ]
  },
  {
   "cell_type": "code",
   "execution_count": 25,
   "id": "e915adc1-9f2f-490f-9813-9989f9d604b6",
   "metadata": {},
   "outputs": [
    {
     "name": "stdout",
     "output_type": "stream",
     "text": [
      "The house was a good size: 1200 square feet, or 111 meters squared!\n"
     ]
    }
   ],
   "source": [
    "# Modify the code to display one decimal place\n",
    "print(f\"The house was a good size: 1200 square feet, or {1200 * 0.092903:.0f} meters squared!\")"
   ]
  },
  {
   "cell_type": "code",
   "execution_count": 4,
   "id": "f25b45ff-b5ba-49ca-9bf4-abfd0623564d",
   "metadata": {},
   "outputs": [
    {
     "name": "stdout",
     "output_type": "stream",
     "text": [
      "28\n",
      "5\n",
      "Name: Otto\n",
      "Gnome height: 12.7\n"
     ]
    }
   ],
   "source": [
    "# variables\n",
    "age=28\n",
    "print(age)\n",
    "age=5\n",
    "print(age)\n",
    "name=\"Otto\"\n",
    "gnome_height = 12.7\n",
    "print(f\"Name: {name}\")\n",
    "print(f\"Gnome height: {gnome_height}\")"
   ]
  },
  {
   "cell_type": "code",
   "execution_count": 9,
   "id": "404178e2-4929-4648-840c-64fa93a09808",
   "metadata": {},
   "outputs": [
    {
     "name": "stdout",
     "output_type": "stream",
     "text": [
      "0\n",
      "50\n",
      "350\n",
      "Your final score was: 350\n"
     ]
    }
   ],
   "source": [
    "score = 0 # now score is 0\n",
    "print(score)\n",
    "score = score + 50 # now score is 0 + 50 which is 50\n",
    "print(score)\n",
    "score = score + 300 # now score is 150 + 300 which is 450\n",
    "print(score)\n",
    "print(f\"Your final score was: {score}\") # prints 450"
   ]
  },
  {
   "cell_type": "code",
   "execution_count": 11,
   "id": "065f3c8d-6273-4d7d-b1c2-4c5f4f89398d",
   "metadata": {},
   "outputs": [
    {
     "name": "stdout",
     "output_type": "stream",
     "text": [
      "Otto's dog age is 7.0. So a dog that's about\n",
      "7.0 would be the same age as Otto. Any dog born about 7.0\n",
      "years ago would be in the same stage of life as Otto.\n"
     ]
    }
   ],
   "source": [
    "dog_age = 49 / 7\n",
    "print(f\"\"\"{name}'s dog age is {dog_age}. So a dog that's about\n",
    "{dog_age} would be the same age as {name}. Any dog born about {dog_age}\n",
    "years ago would be in the same stage of life as {name}.\"\"\")"
   ]
  },
  {
   "cell_type": "code",
   "execution_count": 12,
   "id": "6f7875ad-5ead-4a19-9477-7f00d329bdec",
   "metadata": {},
   "outputs": [
    {
     "name": "stdout",
     "output_type": "stream",
     "text": [
      "I have visited 5 countries. I plan to visit 15 more countries, \n",
      "      and when I'm done I will have visited 20 countries.\n"
     ]
    }
   ],
   "source": [
    "# Create two variables, 'countries_visited' and 'countries_to_visit' and assign them the number of\n",
    "# countries you've been to and the number of countries you hope to visit. Then complete the print statement.\n",
    "countries_visited = 5\n",
    "countries_to_visit = 15\n",
    "print(f\"\"\"I have visited {countries_visited} countries. I plan to visit {countries_to_visit} more countries, \n",
    "      and when I'm done I will have visited {countries_visited + countries_to_visit} countries.\"\"\")"
   ]
  },
  {
   "cell_type": "code",
   "execution_count": null,
   "id": "6fbc50a7-74bc-4aa9-93e0-56ca5891831a",
   "metadata": {},
   "outputs": [],
   "source": []
  }
 ],
 "metadata": {
  "kernelspec": {
   "display_name": "Python 3 (ipykernel)",
   "language": "python",
   "name": "python3"
  },
  "language_info": {
   "codemirror_mode": {
    "name": "ipython",
    "version": 3
   },
   "file_extension": ".py",
   "mimetype": "text/x-python",
   "name": "python",
   "nbconvert_exporter": "python",
   "pygments_lexer": "ipython3",
   "version": "3.12.8"
  }
 },
 "nbformat": 4,
 "nbformat_minor": 5
}
