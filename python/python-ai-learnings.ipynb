{
 "cells": [
  {
   "cell_type": "markdown",
   "id": "f26d9f30-4809-4003-a961-3b4a0c7d154d",
   "metadata": {},
   "source": [
    "Python for AI"
   ]
  },
  {
   "cell_type": "code",
   "execution_count": 5,
   "id": "84db6aed-f727-4e5d-bbf1-7f8b4a097077",
   "metadata": {},
   "outputs": [],
   "source": [
    "from helper_functions import print_llm_response"
   ]
  },
  {
   "cell_type": "code",
   "execution_count": 6,
   "id": "67424e39-9c32-4168-883d-fbf8fb78f079",
   "metadata": {},
   "outputs": [
    {
     "name": "stdout",
     "output_type": "stream",
     "text": [
      "Hello, World!\n"
     ]
    }
   ],
   "source": [
    "print(\"Hello, World!\")"
   ]
  },
  {
   "cell_type": "code",
   "execution_count": 4,
   "id": "e45e9de2-350f-4c8a-b528-d12a26d26006",
   "metadata": {},
   "outputs": [],
   "source": [
    "# COMMENT"
   ]
  },
  {
   "cell_type": "markdown",
   "id": "ee9c5be0-07ef-42fa-a45c-90abbe2e76d5",
   "metadata": {},
   "source": [
    "Strings:"
   ]
  },
  {
   "cell_type": "code",
   "execution_count": 10,
   "id": "b9a99a3c-2f31-40bd-a0ea-8a8c6ec04f8d",
   "metadata": {},
   "outputs": [
    {
     "name": "stdout",
     "output_type": "stream",
     "text": [
      "Hello World!\n",
      "Hello World!\n",
      "    Multiline String\n"
     ]
    }
   ],
   "source": [
    "# Singleline String\n",
    "print(\"Hello World!\")\n",
    "\n",
    "#Multiline String\n",
    "print(\"\"\"Hello World!\n",
    "    Multiline String\"\"\")"
   ]
  },
  {
   "cell_type": "markdown",
   "id": "8d32874f-9387-4d51-9a02-96c054c1cd38",
   "metadata": {},
   "source": [
    "Type:"
   ]
  },
  {
   "cell_type": "code",
   "execution_count": 15,
   "id": "77ef1a1a-dd92-4515-973e-92432e8c50ec",
   "metadata": {},
   "outputs": [
    {
     "data": {
      "text/plain": [
       "str"
      ]
     },
     "execution_count": 15,
     "metadata": {},
     "output_type": "execute_result"
    }
   ],
   "source": [
    "type(\"Hello World!\")"
   ]
  },
  {
   "cell_type": "code",
   "execution_count": 16,
   "id": "11d8fa73-de99-4a5e-a745-acb6f4f69d14",
   "metadata": {},
   "outputs": [
    {
     "data": {
      "text/plain": [
       "int"
      ]
     },
     "execution_count": 16,
     "metadata": {},
     "output_type": "execute_result"
    }
   ],
   "source": [
    "type(100) # Integer"
   ]
  },
  {
   "cell_type": "code",
   "execution_count": 17,
   "id": "540385a1-06f3-4fea-9585-a4b25d269831",
   "metadata": {},
   "outputs": [
    {
     "data": {
      "text/plain": [
       "float"
      ]
     },
     "execution_count": 17,
     "metadata": {},
     "output_type": "execute_result"
    }
   ],
   "source": [
    "type(10.5) # Float"
   ]
  },
  {
   "cell_type": "markdown",
   "id": "4c53be2d-682d-424e-985e-c8f2cc1f828e",
   "metadata": {},
   "source": [
    "Power"
   ]
  },
  {
   "cell_type": "code",
   "execution_count": 18,
   "id": "b494e00f-fc16-4acf-9ca8-0036500c255b",
   "metadata": {},
   "outputs": [
    {
     "name": "stdout",
     "output_type": "stream",
     "text": [
      "57.6650390625\n"
     ]
    }
   ],
   "source": [
    "print(1.5 ** 10)"
   ]
  },
  {
   "cell_type": "code",
   "execution_count": 21,
   "id": "61bbfec9-5074-45a8-ad52-18d33aefcf97",
   "metadata": {},
   "outputs": [
    {
     "name": "stdout",
     "output_type": "stream",
     "text": [
      "Convert 6 feet to meters 1.8288000000000002\n"
     ]
    }
   ],
   "source": [
    "# String contatenation\n",
    "print(\"Convert 6 feet to meters\",6 * 0.3048)"
   ]
  },
  {
   "cell_type": "markdown",
   "id": "b530f9d7-fcde-4e28-8bbe-252dd424ebbe",
   "metadata": {},
   "source": [
    "Formatted Strings"
   ]
  },
  {
   "cell_type": "code",
   "execution_count": 24,
   "id": "9811b265-77a6-4d7c-b2ee-1b0cacf97091",
   "metadata": {},
   "outputs": [
    {
     "name": "stdout",
     "output_type": "stream",
     "text": [
      "The temperature 75F in degrees celsius is 23.89C\n"
     ]
    }
   ],
   "source": [
    "print(f\"The temperature 75F in degrees celsius is {(75 - 32) * 5 / 9:.2f}C\")"
   ]
  },
  {
   "cell_type": "code",
   "execution_count": 25,
   "id": "e915adc1-9f2f-490f-9813-9989f9d604b6",
   "metadata": {},
   "outputs": [
    {
     "name": "stdout",
     "output_type": "stream",
     "text": [
      "The house was a good size: 1200 square feet, or 111 meters squared!\n"
     ]
    }
   ],
   "source": [
    "# Modify the code to display one decimal place\n",
    "print(f\"The house was a good size: 1200 square feet, or {1200 * 0.092903:.0f} meters squared!\")"
   ]
  },
  {
   "cell_type": "code",
   "execution_count": 4,
   "id": "f25b45ff-b5ba-49ca-9bf4-abfd0623564d",
   "metadata": {},
   "outputs": [
    {
     "name": "stdout",
     "output_type": "stream",
     "text": [
      "28\n",
      "5\n",
      "Name: Otto\n",
      "Gnome height: 12.7\n"
     ]
    }
   ],
   "source": [
    "# variables\n",
    "age=28\n",
    "print(age)\n",
    "age=5\n",
    "print(age)\n",
    "name=\"Otto\"\n",
    "gnome_height = 12.7\n",
    "print(f\"Name: {name}\")\n",
    "print(f\"Gnome height: {gnome_height}\")"
   ]
  },
  {
   "cell_type": "code",
   "execution_count": 9,
   "id": "404178e2-4929-4648-840c-64fa93a09808",
   "metadata": {},
   "outputs": [
    {
     "name": "stdout",
     "output_type": "stream",
     "text": [
      "0\n",
      "50\n",
      "350\n",
      "Your final score was: 350\n"
     ]
    }
   ],
   "source": [
    "score = 0 # now score is 0\n",
    "print(score)\n",
    "score = score + 50 # now score is 0 + 50 which is 50\n",
    "print(score)\n",
    "score = score + 300 # now score is 150 + 300 which is 450\n",
    "print(score)\n",
    "print(f\"Your final score was: {score}\") # prints 450"
   ]
  },
  {
   "cell_type": "code",
   "execution_count": 11,
   "id": "065f3c8d-6273-4d7d-b1c2-4c5f4f89398d",
   "metadata": {},
   "outputs": [
    {
     "name": "stdout",
     "output_type": "stream",
     "text": [
      "Otto's dog age is 7.0. So a dog that's about\n",
      "7.0 would be the same age as Otto. Any dog born about 7.0\n",
      "years ago would be in the same stage of life as Otto.\n"
     ]
    }
   ],
   "source": [
    "dog_age = 49 / 7\n",
    "print(f\"\"\"{name}'s dog age is {dog_age}. So a dog that's about\n",
    "{dog_age} would be the same age as {name}. Any dog born about {dog_age}\n",
    "years ago would be in the same stage of life as {name}.\"\"\")"
   ]
  },
  {
   "cell_type": "code",
   "execution_count": 12,
   "id": "6f7875ad-5ead-4a19-9477-7f00d329bdec",
   "metadata": {},
   "outputs": [
    {
     "name": "stdout",
     "output_type": "stream",
     "text": [
      "I have visited 5 countries. I plan to visit 15 more countries, \n",
      "      and when I'm done I will have visited 20 countries.\n"
     ]
    }
   ],
   "source": [
    "# Create two variables, 'countries_visited' and 'countries_to_visit' and assign them the number of\n",
    "# countries you've been to and the number of countries you hope to visit. Then complete the print statement.\n",
    "countries_visited = 5\n",
    "countries_to_visit = 15\n",
    "print(f\"\"\"I have visited {countries_visited} countries. I plan to visit {countries_to_visit} more countries, \n",
    "      and when I'm done I will have visited {countries_visited + countries_to_visit} countries.\"\"\")"
   ]
  },
  {
   "cell_type": "code",
   "execution_count": 11,
   "id": "6fbc50a7-74bc-4aa9-93e0-56ca5891831a",
   "metadata": {},
   "outputs": [],
   "source": [
    "name = \"Otto Matic\"\n",
    "dog_age = 21/7"
   ]
  },
  {
   "cell_type": "code",
   "execution_count": 12,
   "id": "1fbdadd4-1f1c-4534-b3e8-d3e6b43c06e6",
   "metadata": {},
   "outputs": [
    {
     "name": "stdout",
     "output_type": "stream",
     "text": [
      "10\n"
     ]
    }
   ],
   "source": [
    "# String length\n",
    "print(len(name))"
   ]
  },
  {
   "cell_type": "code",
   "execution_count": 1,
   "id": "e5f16bc6-1e18-4c7c-9513-8509fe7bbc0d",
   "metadata": {},
   "outputs": [
    {
     "name": "stdout",
     "output_type": "stream",
     "text": [
      "42\n"
     ]
    }
   ],
   "source": [
    "print(round(42.17))"
   ]
  },
  {
   "cell_type": "code",
   "execution_count": 3,
   "id": "96710a41-2e94-46b6-aa30-28f054bf9382",
   "metadata": {},
   "outputs": [
    {
     "name": "stdout",
     "output_type": "stream",
     "text": [
      "[\"Compose a brief email to my boss explaining that I will be late for tomorrow's meeting.\", 'Write a birthday poem for Otto, celebrating his 28th birthday.', \"Write a 300-word review of the movie 'The Arrival'.\"]\n"
     ]
    }
   ],
   "source": [
    "# lists\n",
    "list_of_tasks = [\n",
    "    \"Compose a brief email to my boss explaining that I will be late for tomorrow's meeting.\",\n",
    "    \"Write a birthday poem for Otto, celebrating his 28th birthday.\",\n",
    "    \"Write a 300-word review of the movie 'The Arrival'.\"\n",
    "]\n",
    "\n",
    "print(list_of_tasks)"
   ]
  },
  {
   "cell_type": "code",
   "execution_count": 9,
   "id": "41ec4484-0a00-4575-8cae-48d6df6186cd",
   "metadata": {},
   "outputs": [
    {
     "name": "stdout",
     "output_type": "stream",
     "text": [
      "Compose a brief email to my boss explaining that I will be late for tomorrow's meeting.\n"
     ]
    }
   ],
   "source": [
    "# accessing specific elements in a list\n",
    "print(list_of_tasks[0])"
   ]
  },
  {
   "cell_type": "code",
   "execution_count": 10,
   "id": "8dc33226-06c3-4fb1-b736-ae64c8fa8d04",
   "metadata": {},
   "outputs": [
    {
     "name": "stdout",
     "output_type": "stream",
     "text": [
      "Compose a brief email to my boss explaining that I will be late for tomorrow's meeting.\n",
      "Write a birthday poem for Otto, celebrating his 28th birthday.\n",
      "Write a 300-word review of the movie 'The Arrival'.\n"
     ]
    }
   ],
   "source": [
    "# for loop\n",
    "for task in list_of_tasks:\n",
    "    print(task)"
   ]
  },
  {
   "cell_type": "code",
   "execution_count": 11,
   "id": "5f80b1b2-6c43-47e5-8fb1-8155616e0c6b",
   "metadata": {},
   "outputs": [
    {
     "name": "stdout",
     "output_type": "stream",
     "text": [
      "[\"Compose a brief email to my boss explaining that I will be late for tomorrow's meeting.\", 'Write a birthday poem for Otto, celebrating his 28th birthday.', \"Write a 300-word review of the movie 'The Arrival'.\"]\n"
     ]
    }
   ],
   "source": [
    "# Adding elements to a list\n",
    "another_list = []\n",
    "\n",
    "for task in list_of_tasks:\n",
    "    another_list.append(task)\n",
    "\n",
    "print(another_list)"
   ]
  },
  {
   "cell_type": "code",
   "execution_count": 12,
   "id": "087df772-fcb0-457c-850c-f7e43ad9925a",
   "metadata": {},
   "outputs": [],
   "source": [
    "# Dictionary\n",
    "\n",
    "ice_cream_flavors = {\n",
    "    \"Mint Chocolate Chip\": \"Refreshing mint ice cream studded with decadent chocolate chips.\",\n",
    "    \"Cookie Dough\": \"Vanilla ice cream loaded with chunks of chocolate chip cookie dough.\",\n",
    "    \"Salted Caramel\": \"Sweet and salty with a smooth caramel swirl and a hint of sea salt.\"\n",
    "}"
   ]
  },
  {
   "cell_type": "code",
   "execution_count": 14,
   "id": "7b076d5b-3413-45f4-955b-6777b2cce191",
   "metadata": {},
   "outputs": [
    {
     "name": "stdout",
     "output_type": "stream",
     "text": [
      "{'Mint Chocolate Chip': 'Refreshing mint ice cream studded with decadent chocolate chips.', 'Cookie Dough': 'Vanilla ice cream loaded with chunks of chocolate chip cookie dough.', 'Salted Caramel': 'Sweet and salty with a smooth caramel swirl and a hint of sea salt.'}\n"
     ]
    }
   ],
   "source": [
    "print(ice_cream_flavors)"
   ]
  },
  {
   "cell_type": "code",
   "execution_count": 16,
   "id": "bdb5afe8-5c7f-40d8-bff2-003075769f0a",
   "metadata": {},
   "outputs": [
    {
     "name": "stdout",
     "output_type": "stream",
     "text": [
      "Refreshing mint ice cream studded with decadent chocolate chips.\n"
     ]
    }
   ],
   "source": [
    "# Accessing elements in the dictionary\n",
    "print(ice_cream_flavors[\"Mint Chocolate Chip\"])"
   ]
  },
  {
   "cell_type": "code",
   "execution_count": 19,
   "id": "e4f45bb4-43c1-490a-8711-b247a2e0fa1d",
   "metadata": {},
   "outputs": [
    {
     "name": "stdout",
     "output_type": "stream",
     "text": [
      "dict_keys(['Mint Chocolate Chip', 'Cookie Dough', 'Salted Caramel'])\n"
     ]
    }
   ],
   "source": [
    "# Accessing keys in a dictionary\n",
    "print(ice_cream_flavors.keys())"
   ]
  },
  {
   "cell_type": "code",
   "execution_count": 21,
   "id": "90784502-d7b0-46ed-b612-f3da9790dcfb",
   "metadata": {},
   "outputs": [
    {
     "name": "stdout",
     "output_type": "stream",
     "text": [
      "dict_values(['Refreshing mint ice cream studded with decadent chocolate chips.', 'Vanilla ice cream loaded with chunks of chocolate chip cookie dough.', 'Sweet and salty with a smooth caramel swirl and a hint of sea salt.'])\n"
     ]
    }
   ],
   "source": [
    "# Acessing values in a dictionary\n",
    "print(ice_cream_flavors.values())"
   ]
  },
  {
   "cell_type": "code",
   "execution_count": 22,
   "id": "96daafa7-12b9-4aa5-b201-27ddadf02349",
   "metadata": {},
   "outputs": [],
   "source": [
    "# Adding elements to a dictionary\n",
    "ice_cream_flavors[\"Rocky Road\"] = \"Chocolate ice cream mixd witother ngredients.\""
   ]
  },
  {
   "cell_type": "code",
   "execution_count": 24,
   "id": "b95b183b-bdb1-4965-8700-9193a60d1094",
   "metadata": {},
   "outputs": [
    {
     "name": "stdout",
     "output_type": "stream",
     "text": [
      "{'Mint Chocolate Chip': 'Refreshing mint ice cream studded with decadent chocolate chips.', 'Cookie Dough': 'Vanilla ice cream loaded with chunks of chocolate chip cookie dough.', 'Salted Caramel': 'Sweet and salty with a smooth caramel swirl and a hint of sea salt.', 'Rocky Road': 'Chocolate ice cream mixd witother ngredients.'}\n"
     ]
    }
   ],
   "source": [
    "print(ice_cream_flavors)"
   ]
  },
  {
   "cell_type": "code",
   "execution_count": 25,
   "id": "6eabe647-0404-4f39-8c0c-da7bd3883a9a",
   "metadata": {},
   "outputs": [],
   "source": [
    "# Updating the values in the dictionary\n",
    "ice_cream_flavors[\"Rocky Road\"] = \"Chocolate ice cream mixed with other ingredients.\""
   ]
  },
  {
   "cell_type": "code",
   "execution_count": 26,
   "id": "3271aa13-93b7-485f-8902-88a5bb2a89ca",
   "metadata": {},
   "outputs": [
    {
     "name": "stdout",
     "output_type": "stream",
     "text": [
      "{'Mint Chocolate Chip': 'Refreshing mint ice cream studded with decadent chocolate chips.', 'Cookie Dough': 'Vanilla ice cream loaded with chunks of chocolate chip cookie dough.', 'Salted Caramel': 'Sweet and salty with a smooth caramel swirl and a hint of sea salt.', 'Rocky Road': 'Chocolate ice cream mixed with other ingredients.'}\n"
     ]
    }
   ],
   "source": [
    "print(ice_cream_flavors)"
   ]
  },
  {
   "cell_type": "code",
   "execution_count": 28,
   "id": "b16c3fff-a360-4748-a7df-b3f1766f6db3",
   "metadata": {},
   "outputs": [
    {
     "name": "stdout",
     "output_type": "stream",
     "text": [
      "{'age': 28, 'Favorite color': 'red'}\n"
     ]
    }
   ],
   "source": [
    "isabel_facts = {\n",
    "    \"age\" : 28,\n",
    "    \"Favorite color\" : \"red\"\n",
    "}\n",
    "\n",
    "print(isabel_facts)"
   ]
  },
  {
   "cell_type": "code",
   "execution_count": 29,
   "id": "48da020e-c4cd-47d5-989a-0cf618368581",
   "metadata": {},
   "outputs": [],
   "source": [
    "isabel_facts[\"Cat names\"] = [\"Charlie\", \"Smokey\", \"Tabitha\"]"
   ]
  },
  {
   "cell_type": "code",
   "execution_count": 30,
   "id": "fd93bcfe-55fd-4930-aaaf-1301e169ad71",
   "metadata": {},
   "outputs": [
    {
     "name": "stdout",
     "output_type": "stream",
     "text": [
      "{'age': 28, 'Favorite color': 'red', 'Cat names': ['Charlie', 'Smokey', 'Tabitha']}\n"
     ]
    }
   ],
   "source": [
    "print(isabel_facts)"
   ]
  },
  {
   "cell_type": "code",
   "execution_count": 32,
   "id": "213afc61-6b39-45e6-8cee-379fa1368ec4",
   "metadata": {},
   "outputs": [
    {
     "name": "stdout",
     "output_type": "stream",
     "text": [
      "{'high_priority': [\"Compose a brief email to my boss explaining that I will be late for tomorrow's meeting.\", 'Create an outline for a presentation on the benefits of remote work.'], 'medium_priority': ['Write a birthday poem for Otto, celebrating his 28th birthday.', 'Draft a thank-you note for my neighbor Dapinder who helped water my plants while I was on vacation.'], 'low_priority': [\"Write a 300-word review of the movie 'The Arrival'.\"]}\n"
     ]
    }
   ],
   "source": [
    "#instead of that unorganized large list, divide tasks by priority\n",
    "high_priority_tasks = [\n",
    "    \"Compose a brief email to my boss explaining that I will be late for tomorrow's meeting.\",\n",
    "    \"Create an outline for a presentation on the benefits of remote work.\"\n",
    "]\n",
    "\n",
    "medium_priority_tasks = [\n",
    "    \"Write a birthday poem for Otto, celebrating his 28th birthday.\",\n",
    "    \"Draft a thank-you note for my neighbor Dapinder who helped water my plants while I was on vacation.\"\n",
    "]\n",
    "\n",
    "low_priority_tasks = [\n",
    "    \"Write a 300-word review of the movie 'The Arrival'.\"\n",
    "]\n",
    "\n",
    "prioritized_tasks = {\n",
    "    \"high_priority\" : high_priority_tasks,\n",
    "    \"medium_priority\" : medium_priority_tasks,\n",
    "    \"low_priority\" : low_priority_tasks\n",
    "}\n",
    "\n",
    "print(prioritized_tasks)"
   ]
  },
  {
   "cell_type": "code",
   "execution_count": null,
   "id": "2d6e5bd2-496e-4a06-8fd6-274fb432fc1d",
   "metadata": {},
   "outputs": [],
   "source": []
  }
 ],
 "metadata": {
  "kernelspec": {
   "display_name": "Python 3 (ipykernel)",
   "language": "python",
   "name": "python3"
  },
  "language_info": {
   "codemirror_mode": {
    "name": "ipython",
    "version": 3
   },
   "file_extension": ".py",
   "mimetype": "text/x-python",
   "name": "python",
   "nbconvert_exporter": "python",
   "pygments_lexer": "ipython3",
   "version": "3.12.8"
  }
 },
 "nbformat": 4,
 "nbformat_minor": 5
}
